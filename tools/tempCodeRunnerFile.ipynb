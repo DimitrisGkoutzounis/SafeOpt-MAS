
x2 = np.linspace(-2, 2, 100)
y_a2 = np.cos(x2**2)

x3 = np.linspace(-1.5, 1.5, 100)