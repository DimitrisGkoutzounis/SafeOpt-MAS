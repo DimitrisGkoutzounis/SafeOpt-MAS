{
 "cells": [
  {
   "cell_type": "markdown",
   "metadata": {},
   "source": [
    "Importing Libraries\n",
    "\n"
   ]
  },
  {
   "cell_type": "code",
   "execution_count": 40,
   "metadata": {},
   "outputs": [],
   "source": [
    "from __future__ import print_function, division, absolute_import\n",
    "\n",
    "import GPy\n",
    "import numpy as np\n",
    "import matplotlib as mpl\n",
    "import matplotlib.pyplot as plt\n",
    "%matplotlib inline\n",
    "\n",
    "import safeopt\n",
    "\n",
    "mpl.rcParams['figure.figsize'] = (20.0, 10.0)\n",
    "mpl.rcParams['font.size'] = 20\n",
    "mpl.rcParams['lines.markersize'] = 20"
   ]
  },
  {
   "cell_type": "code",
   "execution_count": 41,
   "metadata": {},
   "outputs": [],
   "source": [
    "bounds =[(-2.5,2.5), (0,0)]\n",
    "\n",
    "\n",
    "def global_function(x1,x2,x3):\n",
    "    \"Each agent contributes to a different part of the global function\"\n",
    "    x3 = x2\n",
    "    \n",
    "    result =  np.sin(x1**3) + np.cos(x2**2) - np.sin(x3)\n",
    "    \n",
    "    #define guassian noise\n",
    "    # noise = np.random.normal(0,0.08**2)\n",
    "    # noise = np.random.normal(loc=0.0, scale=0.1)\n",
    "\n",
    "    return result\n",
    "\n",
    "\n",
    "def plot_true_function_3d():\n",
    "    \n",
    "    pass\n",
    "\n",
    "\n",
    "class Agent:\n",
    "    def __init__(self,bounds,id,noise_var=0.05**2):\n",
    "\n",
    "        self.bounds = bounds\n",
    "        self.id = id\n",
    "      \n",
    "        self.x0 = np.array([[0.0, 0.0]]) #initial 2d input for the agent\n",
    "\n",
    "\n",
    "        self.y0 = global_function(self.x0[0, 0], self.x0[0, 1], self.x0[0, 1])\n",
    "        self.y0 = np.array([[self.y0]])\n",
    "        print(f\"{self.id} y0: {self.y0}\")\n",
    "\n",
    "\n",
    "\n",
    "        self.parameter_set = safeopt.linearly_spaced_combinations(bounds, 100)\n",
    "        \n",
    "        self.kernel = GPy.kern.RBF(input_dim=2, variance=2., lengthscale=1.)\n",
    "\n",
    "        self.gp = GPy.models.GPRegression(self.x0, self.y0.reshape, self.kernel, noise_var=noise_var)\n",
    "        self.opt = safeopt.SafeOpt(self.gp, self.parameter_set, 0.0, beta=3.5, threshold=0.2)\n",
    "\n",
    "    def predict(self):\n",
    "        \n",
    "        return self.opt.optimize()\n",
    "    \n",
    "    def update(self,x_next,y_meas):\n",
    "        self.opt.add_new_data_point(x_next, y_meas)\n",
    "\n",
    "    def plot_gp(self):\n",
    "        self.opt.plot(1000)\n",
    "        plt.title(f\"Agent {self.id}\")  \n",
    "        \n",
    "\n",
    "\n",
    "\n"
   ]
  },
  {
   "cell_type": "code",
   "execution_count": 42,
   "metadata": {},
   "outputs": [
    {
     "name": "stdout",
     "output_type": "stream",
     "text": [
      "1 y0: [[[1. 1.]]]\n"
     ]
    },
    {
     "ename": "IndexError",
     "evalue": "list index out of range",
     "output_type": "error",
     "traceback": [
      "\u001b[0;31m---------------------------------------------------------------------------\u001b[0m",
      "\u001b[0;31mIndexError\u001b[0m                                Traceback (most recent call last)",
      "Cell \u001b[0;32mIn[42], line 1\u001b[0m\n\u001b[0;32m----> 1\u001b[0m agent1 \u001b[38;5;241m=\u001b[39m \u001b[43mAgent\u001b[49m\u001b[43m(\u001b[49m\u001b[43mbounds\u001b[49m\u001b[43m,\u001b[49m\u001b[38;5;241;43m1\u001b[39;49m\u001b[43m)\u001b[49m\n\u001b[1;32m      2\u001b[0m agent2 \u001b[38;5;241m=\u001b[39m Agent(bounds,\u001b[38;5;241m2\u001b[39m)\n\u001b[1;32m      5\u001b[0m agents \u001b[38;5;241m=\u001b[39m [agent1,agent2]\n",
      "Cell \u001b[0;32mIn[41], line 37\u001b[0m, in \u001b[0;36mAgent.__init__\u001b[0;34m(self, bounds, id, noise_var)\u001b[0m\n\u001b[1;32m     32\u001b[0m \u001b[38;5;28mself\u001b[39m\u001b[38;5;241m.\u001b[39my0 \u001b[38;5;241m=\u001b[39m np\u001b[38;5;241m.\u001b[39marray([[\u001b[38;5;28mself\u001b[39m\u001b[38;5;241m.\u001b[39my0]])\n\u001b[1;32m     33\u001b[0m \u001b[38;5;28mprint\u001b[39m(\u001b[38;5;124mf\u001b[39m\u001b[38;5;124m\"\u001b[39m\u001b[38;5;132;01m{\u001b[39;00m\u001b[38;5;28mself\u001b[39m\u001b[38;5;241m.\u001b[39mid\u001b[38;5;132;01m}\u001b[39;00m\u001b[38;5;124m y0: \u001b[39m\u001b[38;5;132;01m{\u001b[39;00m\u001b[38;5;28mself\u001b[39m\u001b[38;5;241m.\u001b[39my0\u001b[38;5;132;01m}\u001b[39;00m\u001b[38;5;124m\"\u001b[39m)\n\u001b[0;32m---> 37\u001b[0m \u001b[38;5;28mself\u001b[39m\u001b[38;5;241m.\u001b[39mparameter_set \u001b[38;5;241m=\u001b[39m \u001b[43msafeopt\u001b[49m\u001b[38;5;241;43m.\u001b[39;49m\u001b[43mlinearly_spaced_combinations\u001b[49m\u001b[43m(\u001b[49m\u001b[43mbounds\u001b[49m\u001b[43m,\u001b[49m\u001b[43m \u001b[49m\u001b[38;5;241;43m100\u001b[39;49m\u001b[43m)\u001b[49m\n\u001b[1;32m     39\u001b[0m \u001b[38;5;28mself\u001b[39m\u001b[38;5;241m.\u001b[39mkernel \u001b[38;5;241m=\u001b[39m GPy\u001b[38;5;241m.\u001b[39mkern\u001b[38;5;241m.\u001b[39mRBF(input_dim\u001b[38;5;241m=\u001b[39m\u001b[38;5;241m2\u001b[39m, variance\u001b[38;5;241m=\u001b[39m\u001b[38;5;241m2.\u001b[39m, lengthscale\u001b[38;5;241m=\u001b[39m\u001b[38;5;241m1.\u001b[39m)\n\u001b[1;32m     41\u001b[0m \u001b[38;5;28mself\u001b[39m\u001b[38;5;241m.\u001b[39mgp \u001b[38;5;241m=\u001b[39m GPy\u001b[38;5;241m.\u001b[39mmodels\u001b[38;5;241m.\u001b[39mGPRegression(\u001b[38;5;28mself\u001b[39m\u001b[38;5;241m.\u001b[39mx0, \u001b[38;5;28mself\u001b[39m\u001b[38;5;241m.\u001b[39my0\u001b[38;5;241m.\u001b[39mreshape(\u001b[38;5;241m1\u001b[39m,\u001b[38;5;241m-\u001b[39m\u001b[38;5;241m1\u001b[39m), \u001b[38;5;28mself\u001b[39m\u001b[38;5;241m.\u001b[39mkernel, noise_var\u001b[38;5;241m=\u001b[39mnoise_var)\n",
      "File \u001b[0;32m~/.local/lib/python3.10/site-packages/safeopt/utilities.py:47\u001b[0m, in \u001b[0;36mlinearly_spaced_combinations\u001b[0;34m(bounds, num_samples)\u001b[0m\n\u001b[1;32m     44\u001b[0m     num_samples \u001b[38;5;241m=\u001b[39m [num_samples] \u001b[38;5;241m*\u001b[39m num_vars\n\u001b[1;32m     46\u001b[0m \u001b[38;5;28;01mif\u001b[39;00m \u001b[38;5;28mlen\u001b[39m(bounds) \u001b[38;5;241m==\u001b[39m \u001b[38;5;241m1\u001b[39m:\n\u001b[0;32m---> 47\u001b[0m     \u001b[38;5;28;01mreturn\u001b[39;00m np\u001b[38;5;241m.\u001b[39mlinspace(bounds[\u001b[38;5;241m0\u001b[39m][\u001b[38;5;241m0\u001b[39m], \u001b[43mbounds\u001b[49m\u001b[43m[\u001b[49m\u001b[38;5;241;43m0\u001b[39;49m\u001b[43m]\u001b[49m\u001b[43m[\u001b[49m\u001b[38;5;241;43m1\u001b[39;49m\u001b[43m]\u001b[49m, num_samples[\u001b[38;5;241m0\u001b[39m])[:, \u001b[38;5;28;01mNone\u001b[39;00m]\n\u001b[1;32m     49\u001b[0m \u001b[38;5;66;03m# Create linearly spaced test inputs\u001b[39;00m\n\u001b[1;32m     50\u001b[0m inputs \u001b[38;5;241m=\u001b[39m [np\u001b[38;5;241m.\u001b[39mlinspace(b[\u001b[38;5;241m0\u001b[39m], b[\u001b[38;5;241m1\u001b[39m], n) \u001b[38;5;28;01mfor\u001b[39;00m b, n \u001b[38;5;129;01min\u001b[39;00m \u001b[38;5;28mzip\u001b[39m(bounds,\n\u001b[1;32m     51\u001b[0m                                                      num_samples)]\n",
      "\u001b[0;31mIndexError\u001b[0m: list index out of range"
     ]
    }
   ],
   "source": [
    "agent1 = Agent(bounds,1)\n",
    "agent2 = Agent(bounds,2)\n",
    "\n",
    "\n",
    "agents = [agent1,agent2]"
   ]
  },
  {
   "cell_type": "code",
   "execution_count": null,
   "metadata": {},
   "outputs": [
    {
     "name": "stdout",
     "output_type": "stream",
     "text": [
      "Agent 1 x_next: [-0.17676768  0.        ]\n",
      "Agent 2 x_next: [-0.17676768  0.        ]\n"
     ]
    }
   ],
   "source": [
    "for agent in agents:\n",
    "    x_next = agent.predict()\n",
    "    print(f\"Agent {agent.id} x_next: {x_next}\")\n",
    "    \n",
    "   "
   ]
  },
  {
   "cell_type": "code",
   "execution_count": null,
   "metadata": {},
   "outputs": [],
   "source": [
    "plot_true_function_3d()"
   ]
  },
  {
   "cell_type": "code",
   "execution_count": null,
   "metadata": {},
   "outputs": [],
   "source": []
  },
  {
   "cell_type": "code",
   "execution_count": null,
   "metadata": {},
   "outputs": [],
   "source": []
  }
 ],
 "metadata": {
  "kernelspec": {
   "display_name": "Python 3",
   "language": "python",
   "name": "python3"
  },
  "language_info": {
   "codemirror_mode": {
    "name": "ipython",
    "version": 3
   },
   "file_extension": ".py",
   "mimetype": "text/x-python",
   "name": "python",
   "nbconvert_exporter": "python",
   "pygments_lexer": "ipython3",
   "version": "3.10.12"
  }
 },
 "nbformat": 4,
 "nbformat_minor": 2
}
